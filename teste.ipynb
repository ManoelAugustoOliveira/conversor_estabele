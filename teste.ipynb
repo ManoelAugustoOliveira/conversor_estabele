{
 "cells": [
  {
   "cell_type": "code",
   "execution_count": 1,
   "id": "45dc66cd",
   "metadata": {},
   "outputs": [],
   "source": [
    "import pandas as pd"
   ]
  },
  {
   "cell_type": "code",
   "execution_count": 3,
   "id": "1a49a6a8",
   "metadata": {},
   "outputs": [],
   "source": [
    "# Nomes das colunas esperadas (ajustados manualmente)\n",
    "COLUNAS_ESTABELE = [\n",
    "    'CNPJ_BASICO', 'CNPJ_ORDEM', 'CNPJ_DV', 'IDENTIFICADOR_MATRIZ_FILIAL',\n",
    "    'NOME_FANTASIA', 'SITUACAO_CADASTRAL', 'DATA_SITUACAO_CADASTRAL',\n",
    "    'MOTIVO_SITUACAO_CADASTRAL', 'NOME_CIDADE_EXTERIOR', 'PAIS',\n",
    "    'DATA_INICIO_ATIVIDADE', 'CNAE_FISCAL_PRINCIPAL', 'CNAE_FISCAL_SECUNDARIA',\n",
    "    'TIPO_LOGRADOURO', 'LOGRADOURO', 'NUMERO', 'COMPLEMENTO', 'BAIRRO', 'CEP',\n",
    "    'UF', 'MUNICIPIO', 'DDD1', 'TELEFONE1', 'DDD2', 'TELEFONE2', 'DDD_FAX',\n",
    "    'FAX', 'EMAIL', 'SITUACAO_ESPECIAL', 'DATA_SITUACAO_ESPECIAL'\n",
    "]\n"
   ]
  },
  {
   "cell_type": "code",
   "execution_count": 3,
   "id": "28a2e001",
   "metadata": {},
   "outputs": [],
   "source": [
    "file = 'Estabelecimentos0\\K3241.K03200Y0.D50510.ESTABELE'"
   ]
  },
  {
   "cell_type": "code",
   "execution_count": 4,
   "id": "cba1c172",
   "metadata": {},
   "outputs": [],
   "source": [
    "def ler_estabele(file) -> pd.DataFrame:\n",
    "    return pd.read_csv(\n",
    "        file,\n",
    "        sep=';',\n",
    "        names=COLUNAS_ESTABELE,\n",
    "        header=None,\n",
    "        encoding='latin1',\n",
    "        dtype=str,\n",
    "    )"
   ]
  },
  {
   "cell_type": "code",
   "execution_count": null,
   "id": "b38018f8",
   "metadata": {},
   "outputs": [],
   "source": [
    "df = ler_estabele(file)"
   ]
  },
  {
   "cell_type": "code",
   "execution_count": 5,
   "id": "f82b52e1",
   "metadata": {},
   "outputs": [],
   "source": [
    "import dask.dataframe as dd\n",
    "\n",
    "COLUNAS_ESTABELE = [\n",
    "    'CNPJ_BASICO', 'CNPJ_ORDEM', 'CNPJ_DV', 'IDENTIFICADOR_MATRIZ_FILIAL',\n",
    "    'NOME_FANTASIA', 'SITUACAO_CADASTRAL', 'DATA_SITUACAO_CADASTRAL',\n",
    "    'MOTIVO_SITUACAO_CADASTRAL', 'NOME_CIDADE_EXTERIOR', 'PAIS',\n",
    "    'DATA_INICIO_ATIVIDADE', 'CNAE_FISCAL_PRINCIPAL', 'CNAE_FISCAL_SECUNDARIA',\n",
    "    'TIPO_LOGRADOURO', 'LOGRADOURO', 'NUMERO', 'COMPLEMENTO', 'BAIRRO', 'CEP',\n",
    "    'UF', 'MUNICIPIO', 'DDD1', 'TELEFONE1', 'DDD2', 'TELEFONE2', 'DDD_FAX',\n",
    "    'FAX', 'EMAIL', 'SITUACAO_ESPECIAL', 'DATA_SITUACAO_ESPECIAL'\n",
    "]\n",
    "\n",
    "df = dd.read_csv(\n",
    "    'Estabelecimentos0\\\\K3241.K03200Y0.D50510.ESTABELE',\n",
    "    sep=';',\n",
    "    encoding='latin1',\n",
    "    header=None,            # Indica que o arquivo NÃO tem cabeçalho\n",
    "    names=COLUNAS_ESTABELE,  # Atribui os nomes manualmente\n",
    "    dtype=str,\n",
    ")\n"
   ]
  },
  {
   "cell_type": "code",
   "execution_count": 8,
   "id": "4dcf6ea6",
   "metadata": {},
   "outputs": [
    {
     "name": "stdout",
     "output_type": "stream",
     "text": [
      "Número de linhas: 23066747\n",
      "Número de colunas: 30\n"
     ]
    }
   ],
   "source": [
    "# Número de colunas é direto:\n",
    "n_colunas = len(df.columns)\n",
    "\n",
    "# Número de linhas precisa ser computado:\n",
    "n_linhas = df.shape[0].compute()\n",
    "\n",
    "print(f\"Número de linhas: {n_linhas}\")\n",
    "print(f\"Número de colunas: {n_colunas}\")"
   ]
  },
  {
   "cell_type": "code",
   "execution_count": null,
   "id": "174029b2",
   "metadata": {},
   "outputs": [],
   "source": [
    "df.to_csv('estabelecimentos.csv', index=False, encoding='utf-8')"
   ]
  }
 ],
 "metadata": {
  "language_info": {
   "name": "python"
  }
 },
 "nbformat": 4,
 "nbformat_minor": 5
}
